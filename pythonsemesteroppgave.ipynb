{
 "cells": [
  {
   "cell_type": "code",
   "execution_count": 30,
   "id": "ebf83997-b7bb-40cd-9f37-2cacfe923e51",
   "metadata": {},
   "outputs": [
    {
     "name": "stdout",
     "output_type": "stream",
     "text": [
      "vennligst oppgi ønkset lånesum til bolig\n"
     ]
    },
    {
     "name": "stdin",
     "output_type": "stream",
     "text": [
      " 4000000\n"
     ]
    },
    {
     "name": "stdout",
     "output_type": "stream",
     "text": [
      "vennligst oppgi egenandel\n"
     ]
    },
    {
     "name": "stdin",
     "output_type": "stream",
     "text": [
      " 300000\n"
     ]
    },
    {
     "name": "stdout",
     "output_type": "stream",
     "text": [
      "vennligst oppgi hvor mange år du ønsker å tibakebetale lånet\n"
     ]
    },
    {
     "name": "stdin",
     "output_type": "stream",
     "text": [
      " 30\n"
     ]
    },
    {
     "name": "stdout",
     "output_type": "stream",
     "text": [
      "vennligst oppgi anntall barn du har\n"
     ]
    },
    {
     "name": "stdin",
     "output_type": "stream",
     "text": [
      " 1\n"
     ]
    },
    {
     "name": "stdout",
     "output_type": "stream",
     "text": [
      "annuitetslån: \n",
      "ditt faste terminbeløp er kr 184048\n",
      "det totale lånekostnaddet på lånet er kr 5521426\n",
      "det totale rentebeløpet på lånet er kr 1521426\n",
      "     \n",
      "serielån: \n",
      "terminbeløp nr.1 er kr 222133\n",
      "terminbeløp nr.2 er kr 219173\n",
      "terminbeløp nr.3 er kr 216213\n",
      "terminbeløp nr.4 er kr 213253\n",
      "terminbeløp nr.5 er kr 210293\n",
      "terminbeløp nr.6 er kr 207333\n",
      "terminbeløp nr.7 er kr 204373\n",
      "terminbeløp nr.8 er kr 201413\n",
      "terminbeløp nr.9 er kr 198453\n",
      "terminbeløp nr.10 er kr 195493\n",
      "terminbeløp nr.11 er kr 192533\n",
      "terminbeløp nr.12 er kr 189573\n",
      "terminbeløp nr.13 er kr 186613\n",
      "terminbeløp nr.14 er kr 183653\n",
      "terminbeløp nr.15 er kr 180693\n",
      "terminbeløp nr.16 er kr 177733\n",
      "terminbeløp nr.17 er kr 174773\n",
      "terminbeløp nr.18 er kr 171813\n",
      "terminbeløp nr.19 er kr 168853\n",
      "terminbeløp nr.20 er kr 165893\n",
      "terminbeløp nr.21 er kr 162933\n",
      "terminbeløp nr.22 er kr 159973\n",
      "terminbeløp nr.23 er kr 157013\n",
      "terminbeløp nr.24 er kr 154053\n",
      "terminbeløp nr.25 er kr 151093\n",
      "terminbeløp nr.26 er kr 148133\n",
      "terminbeløp nr.27 er kr 145173\n",
      "terminbeløp nr.28 er kr 142213\n",
      "terminbeløp nr.29 er kr 139253\n",
      "terminbeløp nr.30 er kr 136293\n",
      " \n",
      "det totale lånekostnaddet på serielånet er kr 5376400\n",
      "det totale rentebeløpet på serielånet er kr 1376400\n",
      " \n",
      "resultat: \n",
      "rent økonomisk sett lønner det seg for deg å velge serielån, \n",
      "ved dette valget sparer du kr 145025.527\n",
      " \n",
      "det tar 3.2 antall år for deg å tjene tilbake pengene du betaler i renter på lånet ditt\n",
      "etter 3.2 år vil verdien på huset ditt være kr. 5676400.00000000 i følge statestikken til tidligere boligprisendringer\n",
      " \n",
      "etter låneperioden vil boligen være på verdi kr 17280024.814 i følge statestikken til tidligere boligprisendringer\n"
     ]
    }
   ],
   "source": [
    "#lager kalkulator funksjon\n",
    "def kalkulator():\n",
    "    print(\"vennligst oppgi ønkset lånesum til bolig\")\n",
    "    loan=int(input())\n",
    "    print(\"vennligst oppgi egenandel\")\n",
    "    egen=int(input())\n",
    "    print(\"vennligst oppgi hvor mange år du ønsker å tibakebetale lånet\")\n",
    "    years=int(input())\n",
    "    print(\"vennligst oppgi anntall barn du har\")\n",
    "    kids=int(input())\n",
    "    i=0\n",
    "    \n",
    "\n",
    "    #bruker if, elif og else for avgjøre renten ut i fra forbruk og egenanndel\n",
    "    if loan < 3000000:\n",
    "        interest=0.0194\n",
    "    else:\n",
    "        interest=0.0192\n",
    "    \n",
    "    \n",
    "    if kids == 0:\n",
    "        interest=interest\n",
    "    elif kids <= 2 and kids > 0:\n",
    "        interest=interest+0.001\n",
    "    else:\n",
    "        interest=interest+0.003\n",
    "        \n",
    "    \n",
    "    if egen >= 0.15*loan:\n",
    "        interest=interest\n",
    "    else:\n",
    "        interest=interest+0.002\n",
    "        \n",
    "    #regner ut terminbeløp, total lånekostnadd og totalt retebeløp for annuitetslån\n",
    "    payoff=loan*(interest*((1+interest)**years)/(((1+interest)**years)-1))\n",
    "    totalcostofloan=payoff*years\n",
    "    tot_interest=totalcostofloan-loan\n",
    "    \n",
    "    #bruker \"print()\" funksjon for å printe ut variablene ovenfor med tekst\n",
    "    print(\"annuitetslån: \")\n",
    "    print(\"ditt faste terminbeløp er kr \" + str(round(payoff))) #konverterer til string\n",
    "    print(\"det totale lånekostnaddet på lånet er kr \" + str(round(totalcostofloan)))#bruker round() funksjon for runde av tallet jeg får til svar\n",
    "    print(\"det totale rentebeløpet på lånet er kr \" + str(round(tot_interest)))\n",
    "    print(\"     \")\n",
    "    print(\"serielån: \")\n",
    "    \n",
    "\n",
    "    #bruker \"while\" for å beregne terminbeløpene til serielånet\n",
    "    while i < years:\n",
    "        i=i+1 #gjør slik at verdien til øker med +1 for hver runde den gjentar seg\n",
    "        s_payoff=(loan/years)+(((loan)-((i-1)*loan/years))*interest)\n",
    "        print(\"terminbeløp nr.\" + str(i) + \" er kr \" + str(round(s_payoff)))\n",
    "        \n",
    "        \n",
    "    #regner ut den totale lånekostnadden og det totale rentebeløpet\n",
    "    s_firstpayoff=(loan/years)+(loan*interest)\n",
    "    s_lastpayoff=(loan/years)+(((loan)-((years-1)*loan/years))*interest)\n",
    "    s_totcostofloan=years*(s_firstpayoff+s_lastpayoff)/2\n",
    "    s_totinterest=s_totcostofloan-loan\n",
    "    print(\" \")\n",
    "    print(\"det totale lånekostnaddet på serielånet er kr \" + str(round(s_totcostofloan)))\n",
    "    print(\"det totale rentebeløpet på serielånet er kr \" + str(round(s_totinterest)))\n",
    "    print(\" \")\n",
    "    print(\"resultat: \")\n",
    "    \n",
    "  \n",
    "   \n",
    "    #bruker if og else for å avgjøre hvilken informasjon som blir printet\n",
    "    if tot_interest > s_totinterest:\n",
    "        difference1=tot_interest-s_totinterest\n",
    "        print(\"rent økonomisk sett lønner det seg for deg å velge serielån, \") \n",
    "        print(\"ved dette valget sparer du kr \" + str(round(difference1, 3)))\n",
    "    else:\n",
    "        difference2=s_totinterest-tot_interest\n",
    "        print(\"rent økonomisk sett lønner det seg for deg å velge annuitetslån, \") \n",
    "        print(\"ved dette valget sparer du kr \" + str(round(difference2, 3)))\n",
    "    \n",
    "   \n",
    "    \n",
    "\n",
    "\n",
    "    import pandas as pd #importer pandas for å hente inn datasett\n",
    "    import numpy as np #importerer numpy for å lage en liste\n",
    " \n",
    "    df=pd.read_csv(\"ssbboligprisindeks2000-2020.txt\", sep='\\t', decimal=',', encoding = \"ISO-8859-1\",)   \n",
    "    dfbpi=np.array(df[\"07230: Prisindeks for brukte boliger,\"], dtype='float')\n",
    "    årbpi=np.array(df[\"år\"])\n",
    "    \n",
    "    bpi_2000=dfbpi[0]\n",
    "    bpi_2020=dfbpi[-1]\n",
    "    totendring=(bpi_2020-bpi_2000)/bpi_2000\n",
    "    gjennomsnittligendring=totendring/20 #regner gjennomsnittlig endring i boligprisindeksen\n",
    "    boligpris=egen+loan #regner ut boligens pris\n",
    "    \n",
    "    \n",
    "    \n",
    "    import sympy as sp #importerer sympy for å regne ut ligninger\n",
    "    from sympy.solvers import solve #importerer \"solve\" for hente ut svaret til ligningen\n",
    "    \n",
    "    #lager en ligning for finne ut hvilket år boliverdiøkningen er lik det totale rentebeløpet\n",
    "    x=sp.symbols('x')\n",
    "    y=tot_interest\n",
    "    a=boligpris\n",
    "    b=gjennomsnittligendring\n",
    "    g=s_totinterest\n",
    "    eq2=sp.Eq(x*(a*b), g)\n",
    "    sol2=solve([eq2], [x])\n",
    "    \n",
    "    eq1=sp.Eq(x*(a*b), y)\n",
    "    sol=solve([eq1], [x])\n",
    "    print(\" \")    \n",
    "    \n",
    "    #bruker if og else å avgjøre hvilket svar som skal gis ut\n",
    "    if tot_interest > s_totinterest:\n",
    "        print(\"det tar \" + str(round(sol2[x], 1)) + \" antall år for deg å tjene tilbake pengene du betaler i renter på lånet ditt\")\n",
    "        verdibolig=boligpris+((boligpris)*gjennomsnittligendring)*(sol2[x]) #regner ut boligensverdi etter året økningen på boligensverdi er lik rentekostnadden\n",
    "        print(\"etter \" + str(round(sol2[x], 1)) + \" år vil verdien på huset ditt være kr. \" + str(round(verdibolig, 3)) + \" i følge statestikken til tidligere boligprisendringer\")\n",
    "        print(\" \")\n",
    "        \n",
    "    else:\n",
    "        print(\"det tar \" + str(round(sol[x], 1)) + \" antall år for deg å tjene tilbake pengene du betaler i renter på lånet ditt\")\n",
    "        verdibolig2=boligpris+(boligpris*gjennomsnittligendring)*(sol[x]) #regner ut boligensverdi etter året økningen på boligensverdi er lik rentekostnadden\n",
    "        print(\"etter \" + str(round(sol[x], 1)) + \" år vil verdien på huset ditt være kr. \" + str(round(verdibolig2, 3)) + \" i følge stattestikken til tidligere boligprisendringer\")\n",
    "        print(\" \")\n",
    "    \n",
    "    verdiboligx=boligpris+((boligpris*gjennomsnittligendring)*years) #regner ut boligens verdi etter låneperioden(years)\n",
    "    print(\"etter låneperioden vil boligen være på verdi kr \" + str(round(verdiboligx, 3)) + \" i følge statestikken til tidligere boligprisendringer\")\n",
    "\n",
    "kalkulator()\n"
   ]
  },
  {
   "cell_type": "code",
   "execution_count": null,
   "id": "2d5ac2a4-83a5-413f-b582-f0ed1daa757b",
   "metadata": {},
   "outputs": [],
   "source": []
  }
 ],
 "metadata": {
  "kernelspec": {
   "display_name": "Python 3 (ipykernel)",
   "language": "python",
   "name": "python3"
  },
  "language_info": {
   "codemirror_mode": {
    "name": "ipython",
    "version": 3
   },
   "file_extension": ".py",
   "mimetype": "text/x-python",
   "name": "python",
   "nbconvert_exporter": "python",
   "pygments_lexer": "ipython3",
   "version": "3.9.5"
  }
 },
 "nbformat": 4,
 "nbformat_minor": 5
}
